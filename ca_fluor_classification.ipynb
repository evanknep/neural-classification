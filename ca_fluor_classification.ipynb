{
 "cells": [
  {
   "cell_type": "code",
   "execution_count": 7,
   "metadata": {},
   "outputs": [],
   "source": [
    "%%capture\n",
    "%pip install mindscope-utilities\n",
    "%pip install Bottleneck\n",
    "%pip install tqdm\n",
    "%pip install torch\n",
    "%pip install pytorch_lightning"
   ]
  },
  {
   "cell_type": "code",
   "execution_count": 2,
   "metadata": {},
   "outputs": [],
   "source": [
    "import numpy as np, \\\n",
    "pandas as pd, \\\n",
    "os, \\\n",
    "seaborn as sns, \\\n",
    "matplotlib.pyplot as plt, \\\n",
    "mindscope_utilities, \\\n",
    "bottleneck as bn, \\\n",
    "sklearn, \\\n",
    "torch, \\\n",
    "pytorch_lightning as pl\n",
    "from tqdm.auto import tqdm\n",
    "from allensdk.brain_observatory.behavior.behavior_project_cache import \\\n",
    "    VisualBehaviorOphysProjectCache\n",
    "\n"
   ]
  },
  {
   "cell_type": "code",
   "execution_count": null,
   "metadata": {},
   "outputs": [],
   "source": []
  }
 ],
 "metadata": {
  "kernelspec": {
   "display_name": "base",
   "language": "python",
   "name": "python3"
  },
  "language_info": {
   "codemirror_mode": {
    "name": "ipython",
    "version": 3
   },
   "file_extension": ".py",
   "mimetype": "text/x-python",
   "name": "python",
   "nbconvert_exporter": "python",
   "pygments_lexer": "ipython3",
   "version": "3.9.5"
  }
 },
 "nbformat": 4,
 "nbformat_minor": 2
}
