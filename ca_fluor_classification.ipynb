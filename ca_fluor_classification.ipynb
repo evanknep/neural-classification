{
 "cells": [
  {
   "cell_type": "code",
   "execution_count": 3,
   "metadata": {},
   "outputs": [
    {
     "name": "stdout",
     "output_type": "stream",
     "text": [
      "Collecting Bottleneck\n",
      "  Downloading bottleneck-1.4.0.tar.gz (103 kB)\n",
      "\u001b[2K     \u001b[90m━━━━━━━━━━━━━━━━━━━━━━━━━━━━━━━━━━━━━━━\u001b[0m \u001b[32m103.5/103.5 kB\u001b[0m \u001b[31m6.3 MB/s\u001b[0m eta \u001b[36m0:00:00\u001b[0m\n",
      "\u001b[?25h  Installing build dependencies ... \u001b[?25ldone\n",
      "\u001b[?25h  Getting requirements to build wheel ... \u001b[?25ldone\n",
      "\u001b[?25h  Preparing metadata (pyproject.toml) ... \u001b[?25ldone\n",
      "\u001b[?25hRequirement already satisfied: numpy in /opt/miniconda3/lib/python3.9/site-packages (from Bottleneck) (1.21.2)\n",
      "Building wheels for collected packages: Bottleneck\n",
      "  Building wheel for Bottleneck (pyproject.toml) ... \u001b[?25ldone\n",
      "\u001b[?25h  Created wheel for Bottleneck: filename=Bottleneck-1.4.0-cp39-cp39-macosx_10_9_x86_64.whl size=107320 sha256=28deb340092f92cb7d3d91a7c913fea9d224d9673f38f1c67fe26376be74a0cd\n",
      "  Stored in directory: /Users/evanknep/Library/Caches/pip/wheels/bd/fa/cf/874561f4790db2ffa55cbf7569788c653a3ab0721e6f9e72ad\n",
      "Successfully built Bottleneck\n",
      "Installing collected packages: Bottleneck\n",
      "Successfully installed Bottleneck-1.4.0\n",
      "\n",
      "\u001b[1m[\u001b[0m\u001b[34;49mnotice\u001b[0m\u001b[1;39;49m]\u001b[0m\u001b[39;49m A new release of pip is available: \u001b[0m\u001b[31;49m24.0\u001b[0m\u001b[39;49m -> \u001b[0m\u001b[32;49m24.2\u001b[0m\n",
      "\u001b[1m[\u001b[0m\u001b[34;49mnotice\u001b[0m\u001b[1;39;49m]\u001b[0m\u001b[39;49m To update, run: \u001b[0m\u001b[32;49mpip install --upgrade pip\u001b[0m\n",
      "Note: you may need to restart the kernel to use updated packages.\n"
     ]
    }
   ],
   "source": [
    "# %pip install mindscope-utilities\n",
    "# %pip install Bottleneck\n"
   ]
  },
  {
   "cell_type": "code",
   "execution_count": 7,
   "metadata": {},
   "outputs": [],
   "source": [
    "import numpy as np, \\\n",
    "pandas as pd, \\\n",
    "os, \\\n",
    "seaborn as sns, \\\n",
    "matplotlib.pyplot as plt, \\\n",
    "mindscope_utilities, \\\n",
    "bottleneck as bn\n",
    "\n",
    "\n",
    "\n"
   ]
  },
  {
   "cell_type": "code",
   "execution_count": null,
   "metadata": {},
   "outputs": [],
   "source": []
  }
 ],
 "metadata": {
  "kernelspec": {
   "display_name": "base",
   "language": "python",
   "name": "python3"
  },
  "language_info": {
   "codemirror_mode": {
    "name": "ipython",
    "version": 3
   },
   "file_extension": ".py",
   "mimetype": "text/x-python",
   "name": "python",
   "nbconvert_exporter": "python",
   "pygments_lexer": "ipython3",
   "version": "3.9.5"
  }
 },
 "nbformat": 4,
 "nbformat_minor": 2
}
